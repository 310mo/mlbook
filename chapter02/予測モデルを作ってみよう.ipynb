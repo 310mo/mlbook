{
 "cells": [
  {
   "cell_type": "markdown",
   "metadata": {},
   "source": [
    "<H2>1. 必要なライブラリを読み込む</H2>"
   ]
  },
  {
   "cell_type": "code",
   "execution_count": null,
   "metadata": {
    "collapsed": false
   },
   "outputs": [],
   "source": [
    "%matplotlib inline\n",
    "import copy\n",
    "import numpy as np\n",
    "import matplotlib\n",
    "import matplotlib.pyplot as plt\n",
    "import pandas as pd\n",
    "\n",
    "matplotlib.style.use('ggplot')\n",
    "\n",
    "from __future__ import print_function"
   ]
  },
  {
   "cell_type": "markdown",
   "metadata": {},
   "source": [
    "<H2>2. データの読み込み</H2>\n",
    "<p> pandasにはread_csvという関数が用意されており、それを用いれば簡単にCSVファイルを読み込むことができます</p>\n",
    "<p>データはdatasetフォルダ直下にある\"kc_house_data.csv\"を使用します。</p>"
   ]
  },
  {
   "cell_type": "code",
   "execution_count": null,
   "metadata": {
    "collapsed": false
   },
   "outputs": [],
   "source": [
    "dataset = pd.read_csv('dataset/kc_house_data.csv')"
   ]
  },
  {
   "cell_type": "code",
   "execution_count": null,
   "metadata": {
    "collapsed": false
   },
   "outputs": [],
   "source": [
    "dataset.head()"
   ]
  },
  {
   "cell_type": "code",
   "execution_count": null,
   "metadata": {
    "collapsed": false
   },
   "outputs": [],
   "source": [
    "print('Number of Rows: %i   Number of Columns: %i' % dataset.shape)"
   ]
  },
  {
   "cell_type": "markdown",
   "metadata": {},
   "source": [
    "<h2>3. 要約統計量を出力する</h2>\n",
    "<p> describeでデータ数、平均や中央値、標準偏差などの統計量が出力される</p>"
   ]
  },
  {
   "cell_type": "code",
   "execution_count": null,
   "metadata": {
    "collapsed": false
   },
   "outputs": [],
   "source": [
    "dataset.describe()"
   ]
  },
  {
   "cell_type": "markdown",
   "metadata": {},
   "source": [
    "<H2>4. 最も基本的なデータの操作</H2>"
   ]
  },
  {
   "cell_type": "markdown",
   "metadata": {},
   "source": [
    "<h3> インデックスを用いた行の指定</h3>\n",
    "<p>インデックス番号0~10の行を抽出する</p>"
   ]
  },
  {
   "cell_type": "code",
   "execution_count": null,
   "metadata": {
    "collapsed": false
   },
   "outputs": [],
   "source": [
    "dataset.ix[0:10]"
   ]
  },
  {
   "cell_type": "markdown",
   "metadata": {},
   "source": [
    "<h3> カラム名を用いた列の指定</h3>\n",
    "<p> 最初の10行の\"price\"と\"bedrooms\"の列を抽出する</p>"
   ]
  },
  {
   "cell_type": "code",
   "execution_count": null,
   "metadata": {
    "collapsed": false
   },
   "outputs": [],
   "source": [
    "dataset.ix[:9][['price', 'bedrooms']]\n",
    "# dataset.priceでも良い"
   ]
  },
  {
   "cell_type": "markdown",
   "metadata": {},
   "source": [
    "<h3>カラム間の演算</h3>\n",
    "<p>ここでは例として\"sqft_above\"と\"sqft_basement\"を合計した\"sqft_total\"を新たな列として加える</p>"
   ]
  },
  {
   "cell_type": "code",
   "execution_count": null,
   "metadata": {
    "collapsed": false
   },
   "outputs": [],
   "source": [
    "dataset['sqft_total'] = dataset['sqft_above'] + dataset['sqft_basement']\n",
    "dataset.ix[0:9][['id', 'sqft_above', 'sqft_basement', 'sqft_total']]"
   ]
  },
  {
   "cell_type": "markdown",
   "metadata": {},
   "source": [
    "<h3>カラムに関数を適用する</h3>\n",
    "<p>\"date\"は文字列になっているが、これを年と月で分解して新しいカラムとして追加する</p>"
   ]
  },
  {
   "cell_type": "code",
   "execution_count": null,
   "metadata": {
    "collapsed": true
   },
   "outputs": [],
   "source": [
    "def date_str2year(x):\n",
    "    # 最初の４文字を取り出せば、年になる\n",
    "    return int(x[:4])\n",
    "\n",
    "def date_str2month(x):\n",
    "    # 5文字から6文字目を取り出せば、月になる\n",
    "    return int(x[4:6])"
   ]
  },
  {
   "cell_type": "code",
   "execution_count": null,
   "metadata": {
    "collapsed": false
   },
   "outputs": [],
   "source": [
    "dataset['date_year'] = dataset.date.apply(date_str2year)\n",
    "dataset['date_month'] = dataset.date.apply(date_str2month)\n",
    "dataset.ix[0:9][['id','date', 'date_year', 'date_month']]"
   ]
  },
  {
   "cell_type": "markdown",
   "metadata": {},
   "source": [
    "<h3>ダミー変数を作る</h3>\n",
    "<p> 一般的にはカテゴリ変数を機械学習のモデルに投入する際、0と1のダミー変数に変換する。</p>"
   ]
  },
  {
   "cell_type": "code",
   "execution_count": null,
   "metadata": {
    "collapsed": false
   },
   "outputs": [],
   "source": [
    "dataset = pd.get_dummies(data=dataset, columns=['view'])"
   ]
  },
  {
   "cell_type": "markdown",
   "metadata": {},
   "source": [
    "<p>上記を実行すると、\"view\"という変数の代わりに、\"view_1\", \"view_2\"...\"vier4\"というダミー変数に展開される。</p>"
   ]
  },
  {
   "cell_type": "code",
   "execution_count": null,
   "metadata": {
    "collapsed": false
   },
   "outputs": [],
   "source": [
    "dataset.columns"
   ]
  },
  {
   "cell_type": "code",
   "execution_count": null,
   "metadata": {
    "collapsed": false
   },
   "outputs": [],
   "source": [
    "dataset.head()"
   ]
  },
  {
   "cell_type": "markdown",
   "metadata": {},
   "source": [
    "<h3>条件でのフィルタリング</h3>\n",
    "<p>bedroomsが1以下の物件のみを抽出する</p>"
   ]
  },
  {
   "cell_type": "markdown",
   "metadata": {},
   "source": [
    "<p>(参考)pandasのデータフレームへのカラムへのアクセスですが、これまでdataset[\"カラム名\"]という書き方をしていましたが、別の方法としてdataset.カラム名というアクセスの仕方があります。</p>"
   ]
  },
  {
   "cell_type": "code",
   "execution_count": null,
   "metadata": {
    "collapsed": false
   },
   "outputs": [],
   "source": [
    "dataset[dataset['bedrooms'] < 1]\n",
    "# 以下と同じ\n",
    "# dataset[dataset.bedrooms < 1]"
   ]
  },
  {
   "cell_type": "markdown",
   "metadata": {},
   "source": [
    "<h3>複数条件でのデータ抽出</h3>\n",
    "<p>ここではbedroomsもbathroomsも1以下の物件を抽出</p>"
   ]
  },
  {
   "cell_type": "markdown",
   "metadata": {},
   "source": [
    "<p>numpyの関数logical_andを使って指定するやり方</p>"
   ]
  },
  {
   "cell_type": "code",
   "execution_count": null,
   "metadata": {
    "collapsed": false
   },
   "outputs": [],
   "source": [
    "dataset[np.logical_and((dataset['bedrooms'] < 1), (dataset['bathrooms'] < 1))]"
   ]
  },
  {
   "cell_type": "markdown",
   "metadata": {},
   "source": [
    "<p>numpyのallを使って指定するやり方</p>"
   ]
  },
  {
   "cell_type": "code",
   "execution_count": null,
   "metadata": {
    "collapsed": false
   },
   "outputs": [],
   "source": [
    "a = np.array(dataset['bedrooms'] < 1)\n",
    "b = np.array(dataset['bathrooms'] < 1)"
   ]
  },
  {
   "cell_type": "code",
   "execution_count": null,
   "metadata": {
    "collapsed": false
   },
   "outputs": [],
   "source": [
    "dataset[np.all([a, b], axis=0)]"
   ]
  },
  {
   "cell_type": "markdown",
   "metadata": {},
   "source": [
    "<p>ビット演算子の\"&\"を使って指定するやり方。ただし、ビット演算子なので、\"(dataset[\"bedrooms\"] <1)\" は必ずTrue/Falseになるので問題ないが、それ以外の値が来た場合、予期せぬ動きをする可能性があるので注意が必要</p>"
   ]
  },
  {
   "cell_type": "code",
   "execution_count": null,
   "metadata": {
    "collapsed": false
   },
   "outputs": [],
   "source": [
    "dataset[(dataset['bedrooms'] < 1) & (dataset['bathrooms'] < 1)]"
   ]
  },
  {
   "cell_type": "markdown",
   "metadata": {},
   "source": [
    "<h2>5. 分布の確認(データ可視化入門）</h2>"
   ]
  },
  {
   "cell_type": "markdown",
   "metadata": {},
   "source": [
    "<h3>ヒストグラム</h3>\n",
    "<p>ひとつの数値データのバラツキを可視化する際にはヒストグラムが有効</p>"
   ]
  },
  {
   "cell_type": "code",
   "execution_count": null,
   "metadata": {
    "collapsed": false
   },
   "outputs": [],
   "source": [
    "dataset['price'].hist()\n",
    "# 以下でも同じ\n",
    "# dataset.price.hist()"
   ]
  },
  {
   "cell_type": "markdown",
   "metadata": {},
   "source": [
    "<p>logスケールにしたい場合は、Numpyのlog関数を使って行う</p>"
   ]
  },
  {
   "cell_type": "code",
   "execution_count": null,
   "metadata": {
    "collapsed": false
   },
   "outputs": [],
   "source": [
    "plt.hist(np.log(dataset['price']))"
   ]
  },
  {
   "cell_type": "markdown",
   "metadata": {},
   "source": [
    "<h3>散布図</h3>\n",
    "<p>2つの変数のバラツキや相関関係を確認するには散布図を使う</p>"
   ]
  },
  {
   "cell_type": "code",
   "execution_count": null,
   "metadata": {
    "collapsed": false
   },
   "outputs": [],
   "source": [
    "dataset.plot(kind='scatter', x='sqft_lot', y='price')"
   ]
  },
  {
   "cell_type": "markdown",
   "metadata": {},
   "source": [
    "<h3>Group Byで集計して棒グラフ</h3>\n",
    "<p> \"condition\"はカテゴリ変数なので、この変数をキーにして\"price\"の平均を集計し、それを棒グラフにします</p>"
   ]
  },
  {
   "cell_type": "code",
   "execution_count": null,
   "metadata": {
    "collapsed": false
   },
   "outputs": [],
   "source": [
    "price_by_condition = \\\n",
    " dataset.groupby('condition').aggregate({'price': np.mean}).reset_index()\n",
    "price_by_condition.plot.bar(x='condition')"
   ]
  },
  {
   "cell_type": "markdown",
   "metadata": {},
   "source": [
    "<h3>箱ヒゲ図(Boxplot) </h3>\n",
    "<p>棒グラフにすると平均の比較はできますが、分布全体の比較はできません。そこで箱ヒゲ図の出番です。</p>\n",
    "<p>各要因ごとに分布を比較したいときに箱ヒゲ図はとても便利です</p>"
   ]
  },
  {
   "cell_type": "code",
   "execution_count": null,
   "metadata": {
    "collapsed": false
   },
   "outputs": [],
   "source": [
    "dataset[['condition', 'price']].boxplot(by='condition')"
   ]
  },
  {
   "cell_type": "markdown",
   "metadata": {},
   "source": [
    "<h2>6. 欠損の確認とその対応</h2>\n",
    "<p> 欠損値がある場合、本来はその発生原因を理解する必要があります。なぜなら、その原因によって対応方針は異なるためです。</p>\n",
    "<p>ここでは、欠損があるカラムをチェックします</p>\n",
    "<br>\n",
    "<p>まずあまり効率的ではないものの、pandasに慣れるため各列ごとにチェックしていきます</p>"
   ]
  },
  {
   "cell_type": "code",
   "execution_count": null,
   "metadata": {
    "collapsed": false
   },
   "outputs": [],
   "source": [
    "col_names = dataset.columns\n",
    "for col_name in col_names:\n",
    "    missing_num = sum(pd.isnull(dataset[col_name]))\n",
    "    print(col_name, '; # of missing record: ', missing_num)"
   ]
  },
  {
   "cell_type": "markdown",
   "metadata": {},
   "source": [
    "<p>applyを使って欠損を確認する方法</p>"
   ]
  },
  {
   "cell_type": "code",
   "execution_count": null,
   "metadata": {
    "collapsed": false
   },
   "outputs": [],
   "source": [
    "missing_check = dataset.copy()\n",
    "missing_check = missing_check.apply(pd.isnull, axis=1)\n",
    "missing_check.apply(sum, axis=0)"
   ]
  },
  {
   "cell_type": "markdown",
   "metadata": {},
   "source": [
    "<p>欠損はない。もしあれば、dataset.fillna()を使って補完するか、dataset.dropna()で欠損があるレコードを削除する</p>"
   ]
  },
  {
   "cell_type": "markdown",
   "metadata": {},
   "source": [
    "<h2>7. 特徴量の作成</h2>\n",
    "<p> 既存の特徴量を使って（ターゲットの変数である\"price\"を除いて）新しい特徴量を作りましょう</p>"
   ]
  },
  {
   "cell_type": "code",
   "execution_count": null,
   "metadata": {
    "collapsed": true
   },
   "outputs": [],
   "source": [
    "dataset['sqft_living_div_sqft_living15'] = \\\n",
    " dataset['sqft_living'] / (dataset['sqft_living15'] + 0.001)"
   ]
  },
  {
   "cell_type": "code",
   "execution_count": null,
   "metadata": {
    "collapsed": false
   },
   "outputs": [],
   "source": [
    "'Enter your code here'"
   ]
  },
  {
   "cell_type": "markdown",
   "metadata": {},
   "source": [
    "<h2>8. Scikit Learnを用いた予測モデルの構築</h2>"
   ]
  },
  {
   "cell_type": "markdown",
   "metadata": {},
   "source": [
    "<p>早速、機械学習モデルを使ってみよう</p>\n",
    "<p>ここでは以下の機械学習アルゴリズムを試します</p>\n",
    "<li>線形回帰モデル</li>\n",
    "<li>決定木</li>\n",
    "<li>ランダムフォレスト</li>\n",
    "<li>サポートベクトル回帰</li>\n",
    "<p>また、モデル評価はMSEとします</p>"
   ]
  },
  {
   "cell_type": "code",
   "execution_count": null,
   "metadata": {
    "collapsed": true
   },
   "outputs": [],
   "source": [
    "from sklearn.linear_model import LinearRegression\n",
    "from sklearn.tree import DecisionTreeRegressor\n",
    "from sklearn.ensemble import RandomForestRegressor\n",
    "\n",
    "from sklearn.grid_search import GridSearchCV\n",
    "from sklearn.cross_validation import train_test_split\n",
    "from sklearn.metrics import mean_squared_error"
   ]
  },
  {
   "cell_type": "markdown",
   "metadata": {},
   "source": [
    "<h3>ターゲット変数と特徴量を指定してsklearnに渡せるように準備する</h3>"
   ]
  },
  {
   "cell_type": "code",
   "execution_count": null,
   "metadata": {
    "collapsed": true
   },
   "outputs": [],
   "source": [
    "target_col = 'price'\n",
    "exclude_cols = ['price', 'id', 'date']\n",
    "feature_cols = [col for col in dataset.columns if col not in exclude_cols]"
   ]
  },
  {
   "cell_type": "code",
   "execution_count": null,
   "metadata": {
    "collapsed": false
   },
   "outputs": [],
   "source": [
    "feature_cols"
   ]
  },
  {
   "cell_type": "code",
   "execution_count": null,
   "metadata": {
    "collapsed": false
   },
   "outputs": [],
   "source": [
    "y = np.array(dataset[target_col])\n",
    "X = np.array(dataset[feature_cols])"
   ]
  },
  {
   "cell_type": "code",
   "execution_count": null,
   "metadata": {
    "collapsed": false
   },
   "outputs": [],
   "source": [
    "X_train, X_test, y_train, y_test = \\\n",
    " train_test_split(X, y, test_size=0.3, random_state=1234)\n",
    "X_train1, X_train2, y_train1, y_train2 = \\\n",
    " train_test_split(X_train, y_train, test_size=0.3, random_state=1234)"
   ]
  },
  {
   "cell_type": "markdown",
   "metadata": {},
   "source": [
    "<h2>8-1. アルゴリズムの選択</h2>"
   ]
  },
  {
   "cell_type": "markdown",
   "metadata": {},
   "source": [
    "<h3>線形回帰モデル</h3>"
   ]
  },
  {
   "cell_type": "code",
   "execution_count": null,
   "metadata": {
    "collapsed": false
   },
   "outputs": [],
   "source": [
    "lm = LinearRegression()\n",
    "lm.fit(X_train1, y_train1)\n",
    "y_pred2 = lm.predict(X_train2)\n",
    "lm_mse = mean_squared_error(y_train2, y_pred2)\n",
    "print('LinerRegression MSE: ', lm_mse)"
   ]
  },
  {
   "cell_type": "markdown",
   "metadata": {},
   "source": [
    "<h3>回帰木</h3>"
   ]
  },
  {
   "cell_type": "code",
   "execution_count": null,
   "metadata": {
    "collapsed": false
   },
   "outputs": [],
   "source": [
    "dt = DecisionTreeRegressor()\n",
    "dt.fit(X_train1, y_train1)\n",
    "y_pred2 = dt.predict(X_train2)\n",
    "dt_mse = mean_squared_error(y_train2, y_pred2)\n",
    "print('DT MSE: ', dt_mse)"
   ]
  },
  {
   "cell_type": "markdown",
   "metadata": {},
   "source": [
    "<h3>ランダムフォレスト</h3>"
   ]
  },
  {
   "cell_type": "code",
   "execution_count": null,
   "metadata": {
    "collapsed": false
   },
   "outputs": [],
   "source": [
    "rf = RandomForestRegressor(random_state=1234)\n",
    "rf.fit(X_train1, y_train1)\n",
    "y_pred2 = rf.predict(X_train2)\n",
    "rf_mse = mean_squared_error(y_train2, y_pred2)\n",
    "print('RandomForest MSE: ', rf_mse)"
   ]
  },
  {
   "cell_type": "code",
   "execution_count": null,
   "metadata": {
    "collapsed": false
   },
   "outputs": [],
   "source": [
    "algos = ['LinerRegression', 'DecisionTree', 'RandomForest']\n",
    "mses = [lm_mse,dt_mse, rf_mse]\n",
    "print('Best Alogorithms : ', algos[np.argmin(mses)] )"
   ]
  },
  {
   "cell_type": "markdown",
   "metadata": {},
   "source": [
    "<h2>8-2. 変数選択</h2>\n",
    "<h3>変数増加法で変数選択をしてみる</h3>"
   ]
  },
  {
   "cell_type": "code",
   "execution_count": null,
   "metadata": {
    "collapsed": false
   },
   "outputs": [],
   "source": [
    "class GreedyForwardSelection(object):\n",
    "    \n",
    "    def __init__(self, X_train, y_train, feature_names, clf):\n",
    "        \n",
    "        X_train1, X_train2, y_train1, y_train2 = \\\n",
    "         train_test_split(X_train, y_train, test_size=0.3, random_state=1234)\n",
    "        \n",
    "        self.X_train1 = X_train1\n",
    "        self.y_train1 = y_train1\n",
    "        self.X_train2 = X_train2\n",
    "        self.y_train2 = y_train2\n",
    "        \n",
    "        self.feature_names = feature_names\n",
    "        \n",
    "        self.clf = clf\n",
    "        \n",
    "        self.mse_history = [np.inf]\n",
    "        \n",
    "        # 列数をmとする\n",
    "        self.m = X_train.shape[1]\n",
    "        \n",
    "        # 特徴量（インデックスで持っておく）\n",
    "        self.feature_index = np.arange(self.m)\n",
    "        \n",
    "        # どの特徴量を使うかを1/0でコントロールする\n",
    "        self.features_bool = np.zeros(self.m, dtype=int)\n",
    "\n",
    "        # 追加候補となる特徴量\n",
    "        self.candidate_features = self.feature_index[self.features_bool==0]\n",
    "\n",
    "        # すでに追加すると決めた特徴量\n",
    "        self.include_features = []\n",
    "    \n",
    "    # 与えた特徴量で精度を返す\n",
    "    def get_mse_by_candidate_features(self, feature_index):\n",
    "        self.clf.fit(self.X_train1[:, feature_index], self.y_train1)\n",
    "        \n",
    "        y_pred2 = self.clf.predict(self.X_train2[:, feature_index])\n",
    "        mse_ = mean_squared_error(self.y_train2, y_pred2)\n",
    "        return mse_\n",
    "    \n",
    "    # 候補の特徴量の中でベストの精度を達成する特徴量を見つける\n",
    "    def search_best_candidate(self, include_features, candidate_features):\n",
    "        best_score = np.inf\n",
    "        best_candidate_feature = None\n",
    "        for candidate_feature in candidate_features:\n",
    "            tmp_include_features = copy.deepcopy(include_features)\n",
    "            tmp_include_features.append(candidate_feature)\n",
    "            \n",
    "            cand_mse = self.get_mse_by_candidate_features(tmp_include_features)\n",
    "            if cand_mse < best_score:\n",
    "                best_score = cand_mse\n",
    "                best_candidate_feature = candidate_feature\n",
    "        return best_score, best_candidate_feature\n",
    "    \n",
    "\n",
    "    def fit(self):\n",
    "        \n",
    "        for i in range(self.m):\n",
    "            \n",
    "            best_score, best_candidate_feature = \\\n",
    "             self.search_best_candidate(include_features=self.include_features,\n",
    "                                        candidate_features=self.candidate_features)\n",
    "            if self.mse_history[-1] > best_score:\n",
    "                self.mse_history.append(best_score)\n",
    "                self.include_features.append(best_candidate_feature)\n",
    "                self.features_bool[self.feature_index==best_candidate_feature]=1                \n",
    "                self.candidate_features = self.feature_index[self.features_bool==0]\n",
    "                \n",
    "                print('Newly Added Feature index: ',\n",
    "                      self.feature_names[best_candidate_feature],\n",
    "                      \"\\tMSE score: \", best_score)\n",
    "                \n",
    "            else:\n",
    "                break\n",
    "        \n",
    "        return self.include_features"
   ]
  },
  {
   "cell_type": "code",
   "execution_count": null,
   "metadata": {
    "collapsed": false
   },
   "outputs": [],
   "source": [
    "GFS = GreedyForwardSelection(X_train=X_train, y_train=y_train,\n",
    "                             feature_names=feature_cols,\n",
    "                             clf=RandomForestRegressor(random_state=1234))"
   ]
  },
  {
   "cell_type": "code",
   "execution_count": null,
   "metadata": {
    "collapsed": false
   },
   "outputs": [],
   "source": [
    "selected_feature_index = GFS.fit()"
   ]
  },
  {
   "cell_type": "markdown",
   "metadata": {},
   "source": [
    "<h3>改めて、変数選択後の精度を確認してみましょう</h3>"
   ]
  },
  {
   "cell_type": "code",
   "execution_count": null,
   "metadata": {
    "collapsed": false
   },
   "outputs": [],
   "source": [
    "rf = RandomForestRegressor(random_state=1234)\n",
    "rf.fit(X_train1[:, selected_feature_index], y_train1)\n",
    "y_pred2 = rf.predict(X_train2[:, selected_feature_index])\n",
    "rf_mse = mean_squared_error(y_train2, y_pred2)\n",
    "print('RandomForest MSE: ', rf_mse)"
   ]
  },
  {
   "cell_type": "markdown",
   "metadata": {},
   "source": [
    "<h2>8-3. クロスバリデーションによるパラメーターのチューニング</h2>"
   ]
  },
  {
   "cell_type": "code",
   "execution_count": null,
   "metadata": {
    "collapsed": true
   },
   "outputs": [],
   "source": [
    "rf = RandomForestRegressor(random_state=1234)"
   ]
  },
  {
   "cell_type": "code",
   "execution_count": null,
   "metadata": {
    "collapsed": true
   },
   "outputs": [],
   "source": [
    "params = {'n_estimators': [10, 50, 100], 'max_depth': [5, 10, 50]}"
   ]
  },
  {
   "cell_type": "code",
   "execution_count": null,
   "metadata": {
    "collapsed": false
   },
   "outputs": [],
   "source": [
    "gscv = GridSearchCV(rf, param_grid=params, verbose=1,\n",
    "                    cv=3, scoring='mean_squared_error')"
   ]
  },
  {
   "cell_type": "code",
   "execution_count": null,
   "metadata": {
    "collapsed": false
   },
   "outputs": [],
   "source": [
    "gscv.fit(X_train1[:, selected_feature_index], y_train1)"
   ]
  },
  {
   "cell_type": "code",
   "execution_count": null,
   "metadata": {
    "collapsed": false
   },
   "outputs": [],
   "source": [
    "gscv.best_params_"
   ]
  },
  {
   "cell_type": "markdown",
   "metadata": {},
   "source": [
    "<h3>パラメーターチューニング後のスコアを見てみましょう</h3>"
   ]
  },
  {
   "cell_type": "code",
   "execution_count": null,
   "metadata": {
    "collapsed": false
   },
   "outputs": [],
   "source": [
    "rf = RandomForestRegressor(n_estimators=100, max_depth=50, random_state=1234)\n",
    "rf.fit(X_train1[:, selected_feature_index ], y_train1)\n",
    "y_pred2 = rf.predict(X_train2[:, selected_feature_index])\n",
    "rf_mse = mean_squared_error(y_train2, y_pred2)\n",
    "print('RandomForest MSE: ', rf_mse)"
   ]
  },
  {
   "cell_type": "markdown",
   "metadata": {},
   "source": [
    "<h2>8-4. テストデータへ適用して精度を確認する</h2>"
   ]
  },
  {
   "cell_type": "markdown",
   "metadata": {},
   "source": [
    "<h3>モデルの学習</h3>"
   ]
  },
  {
   "cell_type": "code",
   "execution_count": null,
   "metadata": {
    "collapsed": false
   },
   "outputs": [],
   "source": [
    "rf = RandomForestRegressor(n_estimators=100, max_depth=50, random_state=1234)\n",
    "rf.fit(X_train[:, selected_feature_index], y_train)"
   ]
  },
  {
   "cell_type": "code",
   "execution_count": null,
   "metadata": {
    "collapsed": false
   },
   "outputs": [],
   "source": [
    "y_pred_on_test = rf.predict(X_test[:, selected_feature_index])\n",
    "rf_mse = mean_squared_error(y_test, y_pred_on_test)\n",
    "print('RandomForest MSE: ', rf_mse)"
   ]
  },
  {
   "cell_type": "markdown",
   "metadata": {},
   "source": [
    "<h2>8-5. 誤差の様子を可視化して確認</h2>"
   ]
  },
  {
   "cell_type": "markdown",
   "metadata": {},
   "source": [
    "<h3>予測数値と実際の値の散布図</h3>"
   ]
  },
  {
   "cell_type": "code",
   "execution_count": null,
   "metadata": {
    "collapsed": false
   },
   "outputs": [],
   "source": [
    "plt.scatter(y_test, y_pred_on_test)"
   ]
  },
  {
   "cell_type": "markdown",
   "metadata": {},
   "source": [
    "<h3>誤差のヒストグラム</h3>"
   ]
  },
  {
   "cell_type": "code",
   "execution_count": null,
   "metadata": {
    "collapsed": false
   },
   "outputs": [],
   "source": [
    "error_rate = (y_test - y_pred_on_test) / y_test\n",
    "plt.hist(error_rate)\n",
    "print('Mean: ', np.mean(error_rate))\n",
    "print('Std: ', np.std(error_rate))"
   ]
  },
  {
   "cell_type": "code",
   "execution_count": null,
   "metadata": {
    "collapsed": true
   },
   "outputs": [],
   "source": []
  }
 ],
 "metadata": {
  "anaconda-cloud": {},
  "kernelspec": {
   "display_name": "Python 3",
   "language": "python",
   "name": "python3"
  },
  "language_info": {
   "codemirror_mode": {
    "name": "ipython",
    "version": 3
   },
   "file_extension": ".py",
   "mimetype": "text/x-python",
   "name": "python",
   "nbconvert_exporter": "python",
   "pygments_lexer": "ipython3",
   "version": "3.5.2"
  }
 },
 "nbformat": 4,
 "nbformat_minor": 1
}
